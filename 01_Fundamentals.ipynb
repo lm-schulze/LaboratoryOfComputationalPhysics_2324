{
 "cells": [
  {
   "cell_type": "markdown",
   "metadata": {},
   "source": [
    "# Modules/packages/libraries\n",
    "\n",
    "Definitions:\n",
    "\n",
    "  * Modules:\n",
    "  A module is a file which contains python functions, global variables etc. It is nothing but .py file which has python executable code / statement.\n",
    "\n",
    "  * Packages:\n",
    "  A package is a namespace which contains multiple package/modules. It is a directory which contains a special file `__init__.py`\n",
    "  \n",
    "  * Libraries:\n",
    "  A library is a collection of various packages. There is no difference between package and python library conceptually.\n",
    "  \n",
    "Modules/packages/libraries can be easily \"imported\" and made functional in your python code. A set of libriaries comes with every python installation. Others can be installed locally and then imported. Your own code sitting somewhere else in your local computer can be imported too.\n",
    "\n",
    "Further details (very important!) on packages and how to create them can be found online. We may find the need of creating our own during the course."
   ]
  },
  {
   "cell_type": "code",
   "execution_count": 7,
   "metadata": {},
   "outputs": [
    {
     "name": "stdout",
     "output_type": "stream",
     "text": [
      "3.141592653589793\n",
      "3.141592653589793\n",
      "3.141592653589793\n"
     ]
    }
   ],
   "source": [
    "###### all the \"stuff\" that is in the math library can be used\n",
    "import math\n",
    "print(math.pi)\n",
    "\n",
    "# you can give math a label for convenience\n",
    "import math as m\n",
    "print (m.pi)\n",
    "\n",
    "# alternatively you can import only a given \"thing\" from the library\n",
    "from math import pi    #you can add several libraries at once, just list them separated by a \", \"\n",
    "print (pi)\n",
    "\n",
    "# or just get everything (very dangerous!!!)\n",
    "#from math import *\n",
    "#print (sqrt(7))"
   ]
  },
  {
   "cell_type": "markdown",
   "metadata": {},
   "source": [
    "To know which modules are there for you to use just type:"
   ]
  },
  {
   "cell_type": "code",
   "execution_count": 8,
   "metadata": {},
   "outputs": [
    {
     "name": "stdout",
     "output_type": "stream",
     "text": [
      "\n",
      "Please wait a moment while I gather a list of all available modules...\n",
      "\n"
     ]
    },
    {
     "name": "stderr",
     "output_type": "stream",
     "text": [
      "C:\\Users\\ttuni\\anaconda3\\lib\\site-packages\\caffe2\\proto\\__init__.py:17: UserWarning:\n",
      "\n",
      "Caffe2 support is not enabled in this PyTorch build. Please enable Caffe2 by building PyTorch from source with `BUILD_CAFFE2=1` flag.\n",
      "\n",
      "C:\\Users\\ttuni\\anaconda3\\lib\\site-packages\\caffe2\\proto\\__init__.py:17: UserWarning:\n",
      "\n",
      "Caffe2 support is not enabled in this PyTorch build. Please enable Caffe2 by building PyTorch from source with `BUILD_CAFFE2=1` flag.\n",
      "\n",
      "C:\\Users\\ttuni\\anaconda3\\lib\\site-packages\\caffe2\\python\\__init__.py:9: UserWarning:\n",
      "\n",
      "Caffe2 support is not enabled in this PyTorch build. Please enable Caffe2 by building PyTorch from source with `BUILD_CAFFE2=1` flag.\n",
      "\n"
     ]
    },
    {
     "name": "stdout",
     "output_type": "stream",
     "text": [
      "IPython             conda_content_trust modulefinder        socketserver\n",
      "OpenSSL             conda_env           more_itertools      socks\n",
      "PIL                 conda_package_handling mpmath              sockshandler\n",
      "PyQt5               conda_package_streaming msgpack             sortedcontainers\n",
      "TBB                 conda_token         msilib              soupsieve\n",
      "__future__          conda_verify        msvcrt              sphinx\n",
      "_abc                conf                multidict           sphinxify\n",
      "_aix_support        configparser        multipledispatch    sphinxthread\n",
      "_argon2_cffi_bindings constantly          multiprocess        spyder\n",
      "_ast                contextlib          multiprocessing     spyder_kernels\n",
      "_asyncio            contextvars         munkres             sqlalchemy\n",
      "_bisect             contourpy           mypy_extensions     sqlite3\n",
      "_black_version      cookiecutter        nacl                sre_compile\n",
      "_blake2             copy                navigator_updater   sre_constants\n",
      "_bootlocale         copyreg             nbclassic           sre_parse\n",
      "_bootsubprocess     crypt               nbclient            ssl\n",
      "_bz2                cryptography        nbconvert           sspi\n",
      "_cffi_backend       cssselect           nbformat            sspicon\n",
      "_codecs             csv                 nest_asyncio        stack_data\n",
      "_codecs_cn          ctypes              netbios             stat\n",
      "_codecs_hk          curl                netrc               statistics\n",
      "_codecs_iso2022     curses              networkx            statsmodels\n",
      "_codecs_jp          cwp                 nltk                string\n",
      "_codecs_kr          cycler              nntplib             stringprep\n",
      "_codecs_tw          cytoolz             notebook            struct\n",
      "_collections        daal4py             notebook_shim       subprocess\n",
      "_collections_abc    dask                nt                  sunau\n",
      "_compat_pickle      dataclasses         ntpath              symbol\n",
      "_compression        datasets            ntsecuritycon       sympy\n",
      "_contextvars        datashader          nturl2path          symtable\n",
      "_csv                datashape           numba               sys\n",
      "_ctypes             datetime            numbergen           sysconfig\n",
      "_ctypes_test        dateutil            numbers             tables\n",
      "_datetime           dbi                 numexpr             tabnanny\n",
      "_decimal            dbm                 numpy               tabulate\n",
      "_distutils_hack     dde                 numpydoc            tarfile\n",
      "_elementtree        debugpy             odbc                tbb\n",
      "_functools          decimal             onedal              tblib\n",
      "_hashlib            decorator           opcode              telnetlib\n",
      "_heapq              defusedxml          openpyxl            tempfile\n",
      "_imp                diff_match_patch    operator            tenacity\n",
      "_io                 difflib             optparse            terminado\n",
      "_json               dill                os                  test\n",
      "_locale             dis                 packaging           test_pycosat\n",
      "_lsprof             distributed         pandas              testfunc_01\n",
      "_lzma               distutils           pandocfilters       text_unidecode\n",
      "_markupbase         docstring_to_markdown panel               textdistance\n",
      "_md5                doctest             param               textwrap\n",
      "_msi                docutils            paramiko            this\n",
      "_multibytecodec     email               parsel              threading\n",
      "_multiprocess       encodings           parser              threadpoolctl\n",
      "_multiprocessing    ensurepip           parso               three_merge\n",
      "_nsis               entrypoints         partd               tifffile\n",
      "_opcode             enum                past                time\n",
      "_operator           erfa                pathlib             timeit\n",
      "_osx_support        errno               pathspec            timer\n",
      "_overlapped         et_xmlfile          patsy               tinycss2\n",
      "_peg_parser         exceptiongroup      pdb                 tkinter\n",
      "_pickle             executing           pep8                tldextract\n",
      "_plotly_future_     fastjsonschema      perfmon             tlz\n",
      "_plotly_utils       faulthandler        pexpect             token\n",
      "_py_abc             filecmp             pickle              tokenize\n",
      "_pydecimal          fileinput           pickleshare         tokenizers\n",
      "_pyio               filelock            pickletools         toml\n",
      "_pyrsistent_version flake8              pip                 tomli\n",
      "_pytest             flask               pipes               tomlkit\n",
      "_queue              fnmatch             pkg_resources       toolz\n",
      "_random             fontTools           pkginfo             torch\n",
      "_sha1               formatter           pkgutil             torchgen\n",
      "_sha256             fractions           platform            tornado\n",
      "_sha3               frozenlist          platformdirs        tqdm\n",
      "_sha512             fsspec              plistlib            trace\n",
      "_signal             ftplib              plotly              traceback\n",
      "_sitebuiltins       functools           pluggy              tracemalloc\n",
      "_socket             future              ply                 traitlets\n",
      "_sqlite3            gc                  pooch               transformers\n",
      "_sre                genericpath         poplib              tty\n",
      "_ssl                gensim              posixpath           turtle\n",
      "_stat               getopt              poyo                turtledemo\n",
      "_statistics         getpass             pprint              twisted\n",
      "_string             gettext             profile             types\n",
      "_strptime           glob                prometheus_client   typing\n",
      "_struct             glob2               prompt_toolkit      typing_extensions\n",
      "_symtable           graphlib            protego             ujson\n",
      "_system_path        greenlet            pstats              unicodedata\n",
      "_testbuffer         gzip                psutil              unidecode\n",
      "_testcapi           h5py                pty                 unittest\n",
      "_testconsole        hashlib             ptyprocess          urllib\n",
      "_testimportmultiple heapdict            pure_eval           urllib3\n",
      "_testinternalcapi   heapq               pvectorc            uu\n",
      "_testmultiphase     hmac                py                  uuid\n",
      "_thread             holoviews           py_compile          venv\n",
      "_threading_local    html                pyarrow             w3lib\n",
      "_tkinter            http                pyasn1              warnings\n",
      "_tracemalloc        huggingface_hub     pyasn1_modules      watchdog\n",
      "_uuid               hvplot              pyclbr              wave\n",
      "_warnings           hyperlink           pycodestyle         wcwidth\n",
      "_weakref            idlelib             pycosat             weakref\n",
      "_weakrefset         idna                pycparser           webbrowser\n",
      "_win32sysloader     imagecodecs         pyct                webencodings\n",
      "_winapi             imageio             pycurl              websocket\n",
      "_winxptheme         imagesize           pydispatch          werkzeug\n",
      "_xxsubinterpreters  imaplib             pydoc               whatthepatch\n",
      "_yaml               imblearn            pydoc_data          wheel\n",
      "_zoneinfo           imghdr              pydocstyle          widgetsnbextension\n",
      "abc                 imp                 pyexpat             win2kras\n",
      "adodbapi            importlib           pyflakes            win32api\n",
      "afxres              importlib_metadata  pygments            win32clipboard\n",
      "aifc                importlib_resources pylab               win32com\n",
      "aiohttp             incremental         pylint              win32con\n",
      "aiosignal           inflection          pylint_venv         win32console\n",
      "alabaster           iniconfig           pyls_spyder         win32cred\n",
      "anaconda_navigator  inspect             pylsp               win32crypt\n",
      "antigravity         intake              pylsp_black         win32cryptcon\n",
      "anyio               intervaltree        pylsp_jsonrpc       win32ctypes\n",
      "appdirs             io                  pyodbc              win32event\n",
      "argon2              ipaddress           pyparsing           win32evtlog\n",
      "argparse            ipykernel           pyrsistent          win32evtlogutil\n",
      "array               ipykernel_launcher  pytest              win32file\n",
      "arrow               ipython_genutils    pythoncom           win32gui\n",
      "ast                 ipywidgets          pytoolconfig        win32gui_struct\n",
      "astroid             isapi               pytz                win32help\n",
      "astropy             isort               pyviz_comms         win32inet\n",
      "asttokens           isympy              pywin               win32inetcon\n",
      "async_timeout       itemadapter         pywin32_bootstrap   win32job\n",
      "asynchat            itemloaders         pywin32_testutil    win32lz\n",
      "asyncio             itertools           pywintypes          win32net\n",
      "asyncore            itsdangerous        pywt                win32netcon\n",
      "atexit              jedi                qdarkstyle          win32pdh\n",
      "atomicwrites        jellyfish           qstylizer           win32pdhquery\n",
      "attr                jinja2              qtawesome           win32pdhutil\n",
      "attrs               jinja2_time         qtconsole           win32pipe\n",
      "audioop             jmespath            qtpy                win32print\n",
      "automat             joblib              queue               win32process\n",
      "autopep8            json                queuelib            win32profile\n",
      "babel               json5               quopri              win32ras\n",
      "backcall            jsonschema          random              win32rcparser\n",
      "backports           jupyter             rasutil             win32security\n",
      "base64              jupyter_client      re                  win32service\n",
      "bcrypt              jupyter_console     regcheck            win32serviceutil\n",
      "bdb                 jupyter_core        regex               win32timezone\n",
      "binaryornot         jupyter_server      regutil             win32trace\n",
      "binascii            jupyterlab          repo_cli            win32traceutil\n",
      "binhex              jupyterlab_plotly   reprlib             win32transaction\n",
      "binstar_client      jupyterlab_pygments requests            win32ts\n",
      "bisect              jupyterlab_server   requests_file       win32ui\n",
      "black               jupyterlab_widgets  requests_toolbelt   win32uiole\n",
      "blackd              jwt                 responses           win32verstamp\n",
      "bleach              keyring             rlcompleter         win32wnet\n",
      "blib2to3            keyword             rope                win_inet_pton\n",
      "bokeh               kiwisolver          rtree               winerror\n",
      "bottleneck          lazy_object_proxy   ruamel_yaml         winioctlcon\n",
      "brotli              lib2to3             runpy               winnt\n",
      "bs4                 libarchive          sacremoses          winperf\n",
      "builtins            libfuturize         sched               winpty\n",
      "bz2                 libpasteurize       scipy               winreg\n",
      "cProfile            lief                scrapy              winsound\n",
      "caffe2              linecache           seaborn             winxpgui\n",
      "calendar            llvmlite            secrets             winxptheme\n",
      "certifi             lmdb                select              wrapt\n",
      "cffi                locale              selectors           wsgiref\n",
      "cgi                 locket              send2trash          xarray\n",
      "cgitb               logging             service_identity    xdrlib\n",
      "chardet             lxml                servicemanager      xlwings\n",
      "charset_normalizer  lzma                setuptools          xml\n",
      "chunk               mailbox             shelve              xmlrpc\n",
      "click               mailcap             shlex               xxhash\n",
      "cloudpickle         markdown            shutil              xxsubtype\n",
      "clyent              markupsafe          signal              yaml\n",
      "cmath               marshal             sipbuild            yapf\n",
      "cmd                 math                site                yapftests\n",
      "code                matplotlib          six                 yarl\n",
      "codecs              matplotlib_inline   skimage             zict\n",
      "codeop              mccabe              sklearn             zipapp\n",
      "collections         menuinst            sklearnex           zipfile\n",
      "colorama            mimetypes           slugify             zipimport\n",
      "colorcet            mistune             smart_open          zipp\n",
      "colorsys            mkl                 smtpd               zlib\n",
      "comm                mkl_fft             smtplib             zmq\n",
      "commctrl            mkl_random          snappy              zoneinfo\n",
      "compileall          mmap                sndhdr              zope\n",
      "concurrent          mmapfile            sniffio             zstandard\n",
      "conda               mmsystem            snowballstemmer     \n",
      "conda_build         mock                socket              \n",
      "\n",
      "Enter any module name to get more help.  Or, type \"modules spam\" to search\n",
      "for modules whose name or summary contain the string \"spam\".\n",
      "\n",
      "None\n"
     ]
    }
   ],
   "source": [
    "print (help('modules') )\n"
   ]
  },
  {
   "cell_type": "markdown",
   "metadata": {},
   "source": [
    "`pip` is a special package. It is used from the command line to install properly (e.g. matching the version of the local packages) new packages. It can also be used from within python to check i.e. the set installed packages and their versions. N.B.: only the installed packages on top of the default ones will be listed "
   ]
  },
  {
   "cell_type": "code",
   "execution_count": 9,
   "metadata": {},
   "outputs": [
    {
     "name": "stdout",
     "output_type": "stream",
     "text": [
      "['aiohttp==3.8.3', 'aiosignal==1.2.0', 'alabaster==0.7.12', 'anaconda-client==1.11.2', 'anaconda-navigator==2.4.0', 'anyio==3.5.0', 'appdirs==1.4.4', 'argon2-cffi-bindings==21.2.0', 'argon2-cffi==21.3.0', 'arrow==1.2.2', 'astroid==2.14.2', 'astropy==5.1', 'asttokens==2.0.5', 'async-timeout==4.0.2', 'atomicwrites==1.4.0', 'attrs==22.1.0', 'automat==20.2.0', 'autopep8==1.6.0', 'babel==2.11.0', 'backcall==0.2.0', 'backports.functools-lru-cache==1.6.4', 'backports.tempfile==1.0', 'backports.weakref==1.0.post1', 'bcrypt==3.2.0', 'beautifulsoup4==4.12.2', 'binaryornot==0.4.4', 'black==0.0', 'bleach==4.1.0', 'bokeh==2.4.3', 'bottleneck==1.3.5', 'brotlipy==0.7.0', 'certifi==2023.5.7', 'cffi==1.15.1', 'chardet==4.0.0', 'charset-normalizer==2.0.4', 'click==8.0.4', 'cloudpickle==2.2.1', 'clyent==1.2.2', 'colorama==0.4.6', 'colorcet==3.0.1', 'comm==0.1.2', 'conda-build==3.24.0', 'conda-content-trust==0.1.3', 'conda-package-handling==2.0.2', 'conda-package-streaming==0.7.0', 'conda-repo-cli==1.0.41', 'conda-token==0.4.0', 'conda-verify==3.4.2', 'conda==22.9.0', 'constantly==15.1.0', 'contourpy==1.0.5', 'cookiecutter==1.7.3', 'cryptography==39.0.1', 'cssselect==1.1.0', 'cycler==0.11.0', 'cytoolz==0.12.0', 'daal4py==2023.1.1', 'dask==2023.4.1', 'datasets==2.12.0', 'datashader==0.14.4', 'datashape==0.5.4', 'debugpy==1.5.1', 'decorator==5.1.1', 'defusedxml==0.7.1', 'diff-match-patch==20200713', 'dill==0.3.6', 'distributed==2023.4.1', 'docstring-to-markdown==0.11', 'docutils==0.18.1', 'entrypoints==0.4', 'et-xmlfile==1.1.0', 'exceptiongroup==1.0.4', 'executing==0.8.3', 'fastjsonschema==2.16.2', 'filelock==3.9.0', 'flake8==6.0.0', 'flask==2.2.2', 'fonttools==4.25.0', 'frozenlist==1.3.3', 'fsspec==2023.4.0', 'future==0.18.3', 'gensim==4.3.0', 'glob2==0.7', 'greenlet==1.1.1', 'h5py==3.7.0', 'heapdict==1.0.1', 'holoviews==1.15.4', 'huggingface-hub==0.14.1', 'hvplot==0.8.2', 'hyperlink==21.0.0', 'idna==3.4', 'imagecodecs==2021.8.26', 'imageio==2.26.0', 'imagesize==1.4.1', 'imbalanced-learn==0.10.1', 'importlib-metadata==6.0.0', 'importlib-resources==5.2.0', 'incremental==21.3.0', 'inflection==0.5.1', 'iniconfig==1.1.1', 'intake==0.6.8', 'intervaltree==3.1.0', 'ipykernel==6.19.2', 'ipython-genutils==0.2.0', 'ipython==8.12.0', 'ipywidgets==8.0.4', 'isort==5.9.3', 'itemadapter==0.3.0', 'itemloaders==1.0.4', 'itsdangerous==2.0.1', 'jaraco.classes==3.2.1', 'jedi==0.18.1', 'jellyfish==0.9.0', 'jinja2-time==0.2.0', 'jinja2==3.1.2', 'jmespath==0.10.0', 'joblib==1.1.1', 'json5==0.9.6', 'jsonschema==4.17.3', 'jupyter-client==8.1.0', 'jupyter-console==6.6.3', 'jupyter-core==5.3.0', 'jupyter-server==1.23.4', 'jupyter==1.0.0', 'jupyterlab-pygments==0.1.2', 'jupyterlab-server==2.22.0', 'jupyterlab-widgets==3.0.5', 'jupyterlab==3.5.3', 'keyring==23.13.1', 'kiwisolver==1.4.4', 'lazy-object-proxy==1.6.0', 'libarchive-c==2.9', 'llvmlite==0.40.0', 'lmdb==1.4.1', 'locket==1.0.0', 'lxml==4.9.2', 'markdown==3.4.1', 'markupsafe==2.1.1', 'matplotlib-inline==0.1.6', 'matplotlib==3.7.1', 'mccabe==0.7.0', 'menuinst==1.4.19', 'mistune==0.8.4', 'mkl-fft==1.3.1', 'mkl-random==1.2.2', 'mkl-service==2.4.0', 'mock==4.0.3', 'more-itertools==8.12.0', 'mpmath==1.2.1', 'msgpack==1.0.3', 'multidict==6.0.2', 'multipledispatch==0.6.0', 'multiprocess==0.70.14', 'munkres==1.1.4', 'mypy-extensions==0.4.3', 'navigator-updater==0.3.0', 'nbclassic==0.5.5', 'nbclient==0.5.13', 'nbconvert==6.5.4', 'nbformat==5.7.0', 'nest-asyncio==1.5.6', 'networkx==2.8.4', 'nltk==3.7', 'notebook-shim==0.2.2', 'notebook==6.5.4', 'numba==0.57.0', 'numexpr==2.8.4', 'numpy==1.24.3', 'numpydoc==1.5.0', 'openpyxl==3.0.10', 'packaging==23.0', 'pandas==1.5.3', 'pandocfilters==1.5.0', 'panel==0.14.3', 'param==1.12.3', 'paramiko==2.8.1', 'parsel==1.6.0', 'parso==0.8.3', 'partd==1.2.0', 'pathlib==1.0.1', 'pathspec==0.10.3', 'patsy==0.5.3', 'pep8==1.7.1', 'pexpect==4.8.0', 'pickleshare==0.7.5', 'pillow==9.4.0', 'pip==23.0.1', 'pkginfo==1.9.6', 'platformdirs==2.5.2', 'plotly==5.9.0', 'pluggy==1.0.0', 'ply==3.11', 'pooch==1.4.0', 'poyo==0.5.0', 'prometheus-client==0.14.1', 'prompt-toolkit==3.0.36', 'protego==0.1.16', 'psutil==5.9.0', 'ptyprocess==0.7.0', 'pure-eval==0.2.2', 'pyarrow==11.0.0', 'pyasn1-modules==0.2.8', 'pyasn1==0.4.8', 'pycodestyle==2.10.0', 'pycosat==0.6.4', 'pycparser==2.21', 'pyct==0.5.0', 'pycurl==7.45.2', 'pydispatcher==2.0.5', 'pydocstyle==6.3.0', 'pyerfa==2.0.0', 'pyflakes==3.0.1', 'pygments==2.15.1', 'pyjwt==2.4.0', 'pylint-venv==2.3.0', 'pylint==2.16.2', 'pyls-spyder==0.4.0', 'pynacl==1.5.0', 'pyodbc==4.0.34', 'pyopenssl==23.0.0', 'pyparsing==3.0.9', 'pyqt5-sip==12.11.0', 'pyqt5==5.15.7', 'pyqtwebengine==5.15.4', 'pyrsistent==0.18.0', 'pysocks==1.7.1', 'pytest==7.3.1', 'python-dateutil==2.8.2', 'python-lsp-black==1.2.1', 'python-lsp-jsonrpc==1.0.0', 'python-lsp-server==1.7.2', 'python-slugify==5.0.2', 'python-snappy==0.6.1', 'pytoolconfig==1.2.5', 'pytz==2022.7', 'pyviz-comms==2.0.2', 'pywavelets==1.4.1', 'pywin32-ctypes==0.2.0', 'pywin32==305.1', 'pywinpty==2.0.10', 'pyyaml==6.0', 'pyzmq==25.0.2', 'qdarkstyle==3.0.2', 'qstylizer==0.2.2', 'qtawesome==1.2.2', 'qtconsole==5.4.2', 'qtpy==2.2.0', 'queuelib==1.5.0', 'regex==2022.7.9', 'requests-file==1.5.1', 'requests-toolbelt==0.9.1', 'requests==2.29.0', 'responses==0.13.3', 'rope==1.7.0', 'rtree==1.0.1', 'ruamel-yaml-conda==0.15.100', 'sacremoses==0.0.43', 'scikit-image==0.19.3', 'scikit-learn-intelex==20230426.122314', 'scikit-learn==1.2.2', 'scipy==1.10.1', 'scrapy==2.8.0', 'seaborn==0.12.2', 'send2trash==1.8.0', 'service-identity==18.1.0', 'setuptools==66.0.0', 'sip==6.6.2', 'six==1.16.0', 'smart-open==5.2.1', 'sniffio==1.2.0', 'snowballstemmer==2.2.0', 'sortedcontainers==2.4.0', 'soupsieve==2.4', 'sphinx==5.0.2', 'sphinxcontrib-applehelp==1.0.2', 'sphinxcontrib-devhelp==1.0.2', 'sphinxcontrib-htmlhelp==2.0.0', 'sphinxcontrib-jsmath==1.0.1', 'sphinxcontrib-qthelp==1.0.3', 'sphinxcontrib-serializinghtml==1.1.5', 'spyder-kernels==2.4.3', 'spyder==5.4.3', 'sqlalchemy==1.4.39', 'stack-data==0.2.0', 'statsmodels==0.13.5', 'sympy==1.11.1', 'tables==3.7.0', 'tabulate==0.8.10', 'tbb==0.2', 'tblib==1.7.0', 'tenacity==8.2.2', 'terminado==0.17.1', 'text-unidecode==1.3', 'textdistance==4.2.1', 'threadpoolctl==2.2.0', 'three-merge==0.1.1', 'tifffile==2021.7.2', 'tinycss2==1.2.1', 'tldextract==3.2.0', 'tokenizers==0.11.4', 'toml==0.10.2', 'tomli==2.0.1', 'tomlkit==0.11.1', 'toolz==0.12.0', 'torch==1.12.1', 'tornado==6.2', 'tqdm==4.65.0', 'traitlets==5.7.1', 'transformers==4.29.2', 'twisted-iocpsupport==1.0.2', 'twisted==22.10.0', 'typing-extensions==4.5.0', 'ujson==5.4.0', 'unidecode==1.2.0', 'urllib3==1.26.15', 'w3lib==1.21.0', 'watchdog==2.1.6', 'wcwidth==0.2.5', 'webencodings==0.5.1', 'websocket-client==0.58.0', 'werkzeug==2.2.3', 'whatthepatch==1.0.2', 'wheel==0.38.4', 'widgetsnbextension==4.0.5', 'win-inet-pton==1.1.0', 'wrapt==1.14.1', 'xarray==2022.11.0', 'xlwings==0.29.1', 'xxhash==2.0.2', 'yapf==0.31.0', 'yarl==1.8.1', 'zict==2.2.0', 'zipp==3.11.0', 'zope.interface==5.4.0', 'zstandard==0.19.0']\n"
     ]
    }
   ],
   "source": [
    "try:\n",
    "    # this doesn't work anymore\n",
    "    import pip\n",
    "    sorted([\"%s==%s\" % (i.key, i.version) for i in pip._internal.utils.misc.get_installed_distributions()])\n",
    "\n",
    "except:\n",
    "    # use this instead\n",
    "    import pkg_resources\n",
    "    installed_packages = pkg_resources.working_set\n",
    "    installed_packages_list = sorted([\"%s==%s\" % (i.key, i.version)\n",
    "       for i in installed_packages])\n",
    "    print(installed_packages_list)\n"
   ]
  },
  {
   "cell_type": "markdown",
   "metadata": {},
   "source": [
    "# Functions"
   ]
  },
  {
   "cell_type": "code",
   "execution_count": 10,
   "metadata": {},
   "outputs": [
    {
     "name": "stdout",
     "output_type": "stream",
     "text": [
      "9\n",
      "27\n",
      "cube 27\n",
      "square 9\n"
     ]
    }
   ],
   "source": [
    "def square(x):\n",
    "    \"\"\"Square of x.\"\"\"\n",
    "    return x*x\n",
    "\n",
    "def cube(x):\n",
    "    \"\"\"Cube of x.\"\"\"\n",
    "    return x*x*x\n",
    "\n",
    "# create a dictionary of functions\n",
    "funcs = {\n",
    "    'square': square,\n",
    "    'cube': cube,\n",
    "}\n",
    "\n",
    "x = 3\n",
    "print(square(x))\n",
    "print(cube(x))\n",
    "\n",
    "for func in sorted(funcs):\n",
    "    print (func, funcs[func](x))"
   ]
  },
  {
   "cell_type": "markdown",
   "metadata": {},
   "source": [
    "## Functions arguments"
   ]
  },
  {
   "cell_type": "markdown",
   "metadata": {},
   "source": [
    "What is passed to a function is a copy of the input. Imagine we have a list *x =[1, 2, 3]*, i.e. a mutable object. If within the function the content of *x* is directly changed (e.g. *x[0] = 999*), then *x* changes outside the funciton as well. "
   ]
  },
  {
   "cell_type": "code",
   "execution_count": 11,
   "metadata": {},
   "outputs": [
    {
     "name": "stdout",
     "output_type": "stream",
     "text": [
      "[1, 2, 3]\n",
      "[999, 2, 3]\n",
      "[999, 2, 3]\n"
     ]
    }
   ],
   "source": [
    "def modify(x):\n",
    "    x[0] = 999\n",
    "    return x\n",
    "\n",
    "x = [1,2,3]\n",
    "print (x)\n",
    "print (modify(x))\n",
    "print (x)"
   ]
  },
  {
   "cell_type": "markdown",
   "metadata": {},
   "source": [
    "However, if *x* is reassigned within the function to a new object (e.g. another list), then the copy of the name *x* now points to the new object, but *x* outside the function is unhcanged."
   ]
  },
  {
   "cell_type": "code",
   "execution_count": 12,
   "metadata": {},
   "outputs": [
    {
     "name": "stdout",
     "output_type": "stream",
     "text": [
      "[1, 2, 3]\n",
      "[4, 5, 6]\n",
      "[1, 2, 3]\n"
     ]
    }
   ],
   "source": [
    "def no_modify(x):\n",
    "    x = [4,5,6]\n",
    "    return x\n",
    "\n",
    "x = [1,2,3]\n",
    "print (x)\n",
    "print (no_modify(x))\n",
    "print (x)\n"
   ]
  },
  {
   "cell_type": "markdown",
   "metadata": {},
   "source": [
    "What if the function tries to modify the value of an immutable object?"
   ]
  },
  {
   "cell_type": "markdown",
   "metadata": {},
   "source": [
    "Binding of default arguments occurs at function definition:"
   ]
  },
  {
   "cell_type": "code",
   "execution_count": 13,
   "metadata": {},
   "outputs": [
    {
     "name": "stdout",
     "output_type": "stream",
     "text": [
      "[1]\n",
      "[1, 1]\n",
      "[9, 9, 9, 1]\n",
      "[1, 1, 1]\n",
      "[1, 1, 1, 1]\n"
     ]
    }
   ],
   "source": [
    "def f(x = []):\n",
    "    x.append(1)\n",
    "    return x\n",
    "\n",
    "print (f())\n",
    "print (f())\n",
    "print (f(x = [9,9,9]))\n",
    "print (f())\n",
    "print (f())"
   ]
  },
  {
   "cell_type": "markdown",
   "metadata": {},
   "source": [
    "Try to aviod that!!"
   ]
  },
  {
   "cell_type": "code",
   "execution_count": 14,
   "metadata": {},
   "outputs": [
    {
     "name": "stdout",
     "output_type": "stream",
     "text": [
      "[1]\n",
      "[1]\n",
      "[9, 9, 9, 1]\n",
      "[1]\n",
      "[1]\n"
     ]
    }
   ],
   "source": [
    "def f(x = None):\n",
    "    if x is None:\n",
    "        x = []\n",
    "    x.append(1)\n",
    "    return x\n",
    "\n",
    "print (f())\n",
    "print (f())\n",
    "print (f(x = [9,9,9]))\n",
    "print (f())\n",
    "print (f())"
   ]
  },
  {
   "cell_type": "markdown",
   "metadata": {},
   "source": [
    "## Higher order functions\n",
    "\n",
    "A function that uses another function as an input argument or returns a function is known as a higher-order function (HOF). The most familiar examples are `map` and `filter`."
   ]
  },
  {
   "cell_type": "markdown",
   "metadata": {},
   "source": [
    "### map\n",
    "\n",
    "The map function applies a function to each member of a collection"
   ]
  },
  {
   "cell_type": "code",
   "execution_count": 15,
   "metadata": {},
   "outputs": [
    {
     "name": "stdout",
     "output_type": "stream",
     "text": [
      "[0, 1, 4, 9, 16]\n",
      "0\n",
      "1\n",
      "4\n",
      "9\n",
      "16\n"
     ]
    },
    {
     "data": {
      "text/plain": [
       "[0, 1, 4, 9, 16, 25]"
      ]
     },
     "execution_count": 15,
     "metadata": {},
     "output_type": "execute_result"
    }
   ],
   "source": [
    "x = list(map(square, range(5))) \n",
    "print (x)\n",
    "\n",
    "# Note the difference w.r.t python 2. In python 3 map retuns an iterator so you can do stuff like:\n",
    "for i in map(square,range(5)): print(i)\n",
    "\n",
    "# or\n",
    "[i for i in map(square,range(6))]"
   ]
  },
  {
   "cell_type": "markdown",
   "metadata": {},
   "source": [
    "### filter\n",
    "\n",
    "The filter function applies a predicate to each member of a collection, retaining only those members where the predicate is True"
   ]
  },
  {
   "cell_type": "code",
   "execution_count": 16,
   "metadata": {},
   "outputs": [
    {
     "name": "stdout",
     "output_type": "stream",
     "text": [
      "[0, 2, 4]\n"
     ]
    }
   ],
   "source": [
    "def is_even(x):\n",
    "    return x%2 == 0\n",
    "\n",
    "print (list(filter(is_even, range(5))))"
   ]
  },
  {
   "cell_type": "markdown",
   "metadata": {},
   "source": [
    "Combinations in sequence of HOF are obviously possible"
   ]
  },
  {
   "cell_type": "code",
   "execution_count": 17,
   "metadata": {},
   "outputs": [
    {
     "data": {
      "text/plain": [
       "[0, 4, 16]"
      ]
     },
     "execution_count": 17,
     "metadata": {},
     "output_type": "execute_result"
    }
   ],
   "source": [
    "list(map(square, filter(is_even, range(5))))"
   ]
  },
  {
   "cell_type": "markdown",
   "metadata": {},
   "source": [
    "### reduce\n",
    "\n",
    "The reduce function reduces a collection using a binary operator to combine items two at a time. More often than not reduce can be substituted with a more efficient for loop. It is worth mentioning it for its key role in big-data applications together with map (the map-reduce paradigm). \n",
    "N.B.: it no loger exist as built-in function in python 3, it is now part of the `functools` library"
   ]
  },
  {
   "cell_type": "code",
   "execution_count": 18,
   "metadata": {},
   "outputs": [
    {
     "data": {
      "text/plain": [
       "15"
      ]
     },
     "execution_count": 18,
     "metadata": {},
     "output_type": "execute_result"
    }
   ],
   "source": [
    "from functools import reduce\n",
    "\n",
    "def my_add(x, y):\n",
    "    return x + y\n",
    "\n",
    "# another implementation of the sum function\n",
    "reduce(my_add, [1,2,3,4,5])"
   ]
  },
  {
   "cell_type": "markdown",
   "metadata": {},
   "source": [
    "### zip\n",
    "\n",
    "zip is useful when you need to iterate over matched elements of multiple lists"
   ]
  },
  {
   "cell_type": "code",
   "execution_count": 19,
   "metadata": {},
   "outputs": [
    {
     "name": "stdout",
     "output_type": "stream",
     "text": [
      "1 10 a\n",
      "2 20 b\n",
      "3 30 c\n"
     ]
    }
   ],
   "source": [
    "xs = [1, 2, 3, 4]\n",
    "ys = [10, 20, 30, 40]\n",
    "zs = ['a', 'b', 'c',]\n",
    "\n",
    "for x, y, z in zip(xs, ys, zs):\n",
    "    print (x, y, z)"
   ]
  },
  {
   "cell_type": "markdown",
   "metadata": {},
   "source": [
    "### Custom HOF"
   ]
  },
  {
   "cell_type": "code",
   "execution_count": 20,
   "metadata": {},
   "outputs": [
    {
     "name": "stdout",
     "output_type": "stream",
     "text": [
      "30\n",
      "100\n"
     ]
    }
   ],
   "source": [
    "def custom_sum(xs, transform):\n",
    "    \"\"\"Returns the sum of xs after a user specified transform.\"\"\"\n",
    "    return sum(map(transform, xs))\n",
    "\n",
    "xs = range(5)\n",
    "print (custom_sum(xs, square))\n",
    "print (custom_sum(xs, cube))\n",
    "\n"
   ]
  },
  {
   "cell_type": "markdown",
   "metadata": {},
   "source": [
    "### Returning a function"
   ]
  },
  {
   "cell_type": "code",
   "execution_count": 21,
   "metadata": {},
   "outputs": [],
   "source": [
    "def make_logger(target):\n",
    "    def logger(data):\n",
    "        with open(target, 'a') as f:\n",
    "            f.write(data + '\\n')\n",
    "    return logger\n",
    "\n",
    "foo_logger = make_logger('foo.txt') #foo.txt will be created if not there already\n",
    "foo_logger('Hello')\n",
    "foo_logger('World')"
   ]
  },
  {
   "cell_type": "code",
   "execution_count": 22,
   "metadata": {},
   "outputs": [
    {
     "name": "stderr",
     "output_type": "stream",
     "text": [
      "Der Befehl \"cat\" ist entweder falsch geschrieben oder\n",
      "konnte nicht gefunden werden.\n"
     ]
    }
   ],
   "source": [
    "! cat 'foo.txt'"
   ]
  },
  {
   "cell_type": "markdown",
   "metadata": {},
   "source": [
    "## Anonimous functions (lambda)\n",
    "\n",
    "When using functional style, there is often the need to create specific functions that perform a limited task as input to a HOF such as map or filter. In such cases, these functions are often written as anonymous or lambda functions. \n",
    "The syntax is as follows:\n",
    "\n",
    "lambda *arguments* : *expression*\n",
    "\n",
    "\n",
    "If you find it hard to understand what a lambda function is doing, it should probably be rewritten as a regular function."
   ]
  },
  {
   "cell_type": "code",
   "execution_count": 23,
   "metadata": {},
   "outputs": [
    {
     "data": {
      "text/plain": [
       "7"
      ]
     },
     "execution_count": 23,
     "metadata": {},
     "output_type": "execute_result"
    }
   ],
   "source": [
    "suml = lambda x,y: x+y\n",
    "suml(3,4)"
   ]
  },
  {
   "cell_type": "code",
   "execution_count": 24,
   "metadata": {},
   "outputs": [
    {
     "data": {
      "text/plain": [
       "7"
      ]
     },
     "execution_count": 24,
     "metadata": {},
     "output_type": "execute_result"
    }
   ],
   "source": [
    "(lambda x,y: x+y)(3,4)"
   ]
  },
  {
   "cell_type": "code",
   "execution_count": 25,
   "metadata": {},
   "outputs": [
    {
     "name": "stdout",
     "output_type": "stream",
     "text": [
      "0\n",
      "1\n",
      "4\n",
      "9\n",
      "16\n"
     ]
    }
   ],
   "source": [
    "for i in map(lambda x: x*x, range(5)): print (i)"
   ]
  },
  {
   "cell_type": "code",
   "execution_count": 26,
   "metadata": {},
   "outputs": [
    {
     "name": "stdout",
     "output_type": "stream",
     "text": [
      "285\n"
     ]
    }
   ],
   "source": [
    "# what does this function do?\n",
    "from functools import reduce\n",
    "s1 = reduce(lambda x, y: x+y, map(lambda x: x**2, range(1,10)))\n",
    "print(s1)\n"
   ]
  },
  {
   "cell_type": "markdown",
   "metadata": {},
   "source": [
    "## Recursive functions "
   ]
  },
  {
   "cell_type": "code",
   "execution_count": 27,
   "metadata": {},
   "outputs": [
    {
     "name": "stdout",
     "output_type": "stream",
     "text": [
      "[1, 1, 2, 3, 5, 8, 13, 21, 34, 55]\n"
     ]
    }
   ],
   "source": [
    "def fib1(n):\n",
    "    \"\"\"Fib with recursion.\"\"\"\n",
    "\n",
    "    # base case\n",
    "    if n==0 or n==1:\n",
    "        return 1\n",
    "    # recursive case\n",
    "    else:\n",
    "        return fib1(n-1) + fib1(n-2)\n",
    "\n",
    "    \n",
    "print ([fib1(i) for i in range(10)])"
   ]
  },
  {
   "cell_type": "code",
   "execution_count": 28,
   "metadata": {},
   "outputs": [
    {
     "name": "stdout",
     "output_type": "stream",
     "text": [
      "[1, 1, 2, 3, 5, 8, 13, 21, 34, 55]\n"
     ]
    }
   ],
   "source": [
    "# In Python, a more efficient version that does not use recursion is\n",
    "\n",
    "def fib2(n):\n",
    "    \"\"\"Fib without recursion.\"\"\"\n",
    "    a, b = 0, 1\n",
    "    for i in range(1, n+1):\n",
    "        a, b = b, a+b\n",
    "    return b\n",
    "\n",
    "print ([fib2(i) for i in range(10)])"
   ]
  },
  {
   "cell_type": "code",
   "execution_count": 29,
   "metadata": {},
   "outputs": [
    {
     "name": "stdout",
     "output_type": "stream",
     "text": [
      "7.83 ms ± 138 µs per loop (mean ± std. dev. of 7 runs, 100 loops each)\n",
      "3.28 µs ± 165 ns per loop (mean ± std. dev. of 7 runs, 100,000 loops each)\n"
     ]
    }
   ],
   "source": [
    "# check indeed the timing:\n",
    "\n",
    "%timeit fib1(20)\n",
    "%timeit fib2(20)\n"
   ]
  },
  {
   "cell_type": "markdown",
   "metadata": {},
   "source": [
    "## Iterators\n",
    "\n",
    "Iterators represent streams of values. Because only one value is consumed at a time, they use very little memory. Use of iterators is very helpful for working with data sets too large to fit into RAM."
   ]
  },
  {
   "cell_type": "code",
   "execution_count": 30,
   "metadata": {},
   "outputs": [
    {
     "name": "stdout",
     "output_type": "stream",
     "text": [
      "1\n",
      "2\n",
      "3\n"
     ]
    },
    {
     "ename": "StopIteration",
     "evalue": "",
     "output_type": "error",
     "traceback": [
      "\u001b[1;31m---------------------------------------------------------------------------\u001b[0m",
      "\u001b[1;31mStopIteration\u001b[0m                             Traceback (most recent call last)",
      "Cell \u001b[1;32mIn[30], line 9\u001b[0m\n\u001b[0;32m      7\u001b[0m \u001b[38;5;28mprint\u001b[39m (\u001b[38;5;28mnext\u001b[39m(x_iter))\n\u001b[0;32m      8\u001b[0m \u001b[38;5;28mprint\u001b[39m (\u001b[38;5;28mnext\u001b[39m(x_iter))\n\u001b[1;32m----> 9\u001b[0m \u001b[38;5;28mprint\u001b[39m (\u001b[38;5;28;43mnext\u001b[39;49m\u001b[43m(\u001b[49m\u001b[43mx_iter\u001b[49m\u001b[43m)\u001b[49m)\n",
      "\u001b[1;31mStopIteration\u001b[0m: "
     ]
    }
   ],
   "source": [
    "# Iterators can be created from sequences with the built-in function iter()\n",
    "\n",
    "xs = [1,2,3]\n",
    "x_iter = iter(xs)\n",
    "\n",
    "print (next(x_iter))\n",
    "print (next(x_iter))\n",
    "print (next(x_iter))\n",
    "print (next(x_iter))"
   ]
  },
  {
   "cell_type": "code",
   "execution_count": 31,
   "metadata": {},
   "outputs": [
    {
     "name": "stdout",
     "output_type": "stream",
     "text": [
      "1\n",
      "2\n",
      "3\n"
     ]
    }
   ],
   "source": [
    "# Most commonly, iterators are used (automatically) within a for loop\n",
    "# which terminates when it encouters a StopIteration exception\n",
    "\n",
    "x_iter = iter(xs)\n",
    "for x in x_iter:\n",
    "    print (x)"
   ]
  },
  {
   "cell_type": "markdown",
   "metadata": {},
   "source": [
    "## More on comprehensions"
   ]
  },
  {
   "cell_type": "code",
   "execution_count": 32,
   "metadata": {},
   "outputs": [
    {
     "name": "stdout",
     "output_type": "stream",
     "text": [
      "<generator object <genexpr> at 0x000001993021F970>\n",
      "[0, 1, 4, 9, 16, 25, 36, 49, 64, 81]\n",
      "{0, 1, 2, 3, 4, 5, 6, 7, 8, 9}\n",
      "{0: 'x', 1: 'x', 2: 'x', 3: 'x', 4: 'x', 5: 'x', 6: 'x', 7: 'x', 8: 'x', 9: 'x'}\n"
     ]
    }
   ],
   "source": [
    "# A generator expression\n",
    "\n",
    "print ((x for x in range(10)))\n",
    "\n",
    "# A list comprehesnnion\n",
    "\n",
    "print ([x**2 for x in range(10)])\n",
    "\n",
    "# A set comprehension\n",
    "\n",
    "print ({x for x in range(10)})\n",
    "\n",
    "# A dictionary comprehension\n",
    "\n",
    "print ({x: \"x\" for x in range(10)})"
   ]
  },
  {
   "cell_type": "markdown",
   "metadata": {},
   "source": [
    "## Useful Modules\n",
    "\n",
    "You may want to have a look at the content of the following modules for further usage of (HO) functions:\n",
    "  - [operator](https://docs.python.org/3/library/operator.html)\n",
    "  - [functools](https://docs.python.org/3/library/functools.html)\n",
    "  - [itertools](https://docs.python.org/3/library/itertools.html)\n",
    "  - [toolz](https://pypi.org/project/toolz/)\n",
    "  - [funcy](https://pypi.org/project/funcy/)"
   ]
  },
  {
   "cell_type": "markdown",
   "metadata": {},
   "source": [
    "## Decorators\n",
    "\n",
    "Decorators are a type of HOF that take a function and return a wrapped function that provides additional useful properties.\n",
    "\n",
    "Examples:\n",
    "\n",
    "  - logging\n",
    "  - profiling\n",
    "  - Just-In-Time (JIT) compilation"
   ]
  },
  {
   "cell_type": "code",
   "execution_count": 33,
   "metadata": {},
   "outputs": [],
   "source": [
    "def my_decorator(func):\n",
    "    def wrapper():\n",
    "        print(\"Something is happening before the function is called.\")\n",
    "        func()\n",
    "        print(\"Something is happening after the function is called.\")\n",
    "    return wrapper\n",
    "\n",
    "def say_whee():\n",
    "    print(\"Whee!\")\n",
    "\n",
    "say_whee = my_decorator(say_whee)"
   ]
  },
  {
   "cell_type": "code",
   "execution_count": 34,
   "metadata": {},
   "outputs": [
    {
     "name": "stdout",
     "output_type": "stream",
     "text": [
      "Something is happening before the function is called.\n",
      "Whee!\n",
      "Something is happening after the function is called.\n"
     ]
    }
   ],
   "source": [
    "say_whee()"
   ]
  },
  {
   "cell_type": "markdown",
   "metadata": {},
   "source": [
    "Python allows you to use decorators in a simpler way with the @ symbol, sometimes called the “pie” syntax"
   ]
  },
  {
   "cell_type": "code",
   "execution_count": 35,
   "metadata": {},
   "outputs": [],
   "source": [
    "def my_decorator(func):\n",
    "    def wrapper():\n",
    "        print(\"Something is happening before the function is called.\")\n",
    "        func()\n",
    "        print(\"Something is happening after the function is called.\")\n",
    "    return wrapper\n",
    "\n",
    "@my_decorator\n",
    "def say_whee():\n",
    "    print(\"Whee!\")"
   ]
  },
  {
   "cell_type": "code",
   "execution_count": 36,
   "metadata": {},
   "outputs": [
    {
     "name": "stdout",
     "output_type": "stream",
     "text": [
      "Something is happening before the function is called.\n",
      "Whee!\n",
      "Something is happening after the function is called.\n"
     ]
    }
   ],
   "source": [
    "say_whee()"
   ]
  },
  {
   "cell_type": "markdown",
   "metadata": {},
   "source": [
    "# Classes and Objects\n",
    "\n",
    "Old school object-oriented programming is possible and often used in python. Classes are defined similarly to standard object-oriented languages, with similar functionalities.\n",
    "\n",
    "The main python doc [page](https://docs.python.org/3/tutorial/classes.html) is worth reading through "
   ]
  },
  {
   "cell_type": "code",
   "execution_count": 37,
   "metadata": {},
   "outputs": [
    {
     "name": "stdout",
     "output_type": "stream",
     "text": [
      "buddy 12\n",
      "3\n"
     ]
    }
   ],
   "source": [
    "class Pet:\n",
    "    # the \"constructor\"\n",
    "    def __init__(self, name, age):  #inizialize the elements of the class\n",
    "        self.name=name\n",
    "        self.age=age\n",
    "    # class functions take the \"self\" parameter !!!\n",
    "    def set_name(self,name):\n",
    "        self.name=name\n",
    "    def convert_age(self,factor):\n",
    "        self.age*=factor\n",
    "\n",
    "buddy=Pet(\"buddy\",12)\n",
    "print (buddy.name, buddy.age)\n",
    "buddy.age=3\n",
    "print (buddy.age)\n",
    "\n"
   ]
  },
  {
   "cell_type": "code",
   "execution_count": 38,
   "metadata": {},
   "outputs": [
    {
     "name": "stdout",
     "output_type": "stream",
     "text": [
      "tobia\n",
      "70\n"
     ]
    }
   ],
   "source": [
    "# inheritance is straightforward\n",
    "class Dog(Pet):\n",
    "    # the following variables is \"global\", i.e. holds for all \"Dog\" objects\n",
    "    species = \"mammal\"\n",
    "    # functions can be redefined as usual\n",
    "    def convert_age(self):\n",
    "        self.age*=7\n",
    "    def set_species(self, species):\n",
    "        self.species = species\n",
    "        \n",
    "puppy=Dog(\"tobia\",10)\n",
    "print(puppy.name)\n",
    "puppy.convert_age()\n",
    "print(puppy.age)\n",
    "\n"
   ]
  },
  {
   "cell_type": "code",
   "execution_count": null,
   "metadata": {},
   "outputs": [],
   "source": []
  }
 ],
 "metadata": {
  "kernelspec": {
   "display_name": "Python 3 (ipykernel)",
   "language": "python",
   "name": "python3"
  },
  "language_info": {
   "codemirror_mode": {
    "name": "ipython",
    "version": 3
   },
   "file_extension": ".py",
   "mimetype": "text/x-python",
   "name": "python",
   "nbconvert_exporter": "python",
   "pygments_lexer": "ipython3",
   "version": "3.9.16"
  }
 },
 "nbformat": 4,
 "nbformat_minor": 2
}
