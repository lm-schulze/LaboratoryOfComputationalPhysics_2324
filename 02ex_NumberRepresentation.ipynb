{
 "cells": [
  {
   "cell_type": "markdown",
   "metadata": {},
   "source": [
    "1\\. Write a function that converts number representation, bin<->dec<->hex. (Clearly using the corresponding python built-in functions is not fair..)"
   ]
  },
  {
   "cell_type": "code",
   "execution_count": 2,
   "metadata": {},
   "outputs": [],
   "source": [
    "def convert(number):\n",
    "    # assuming x is a decimal integer\n",
    "    # the other cases will be added later\n",
    "    \n",
    "    # dec->bin\n",
    "    # first the sign bit\n",
    "    # x_bin = ['1|'] if x<0 else ['0|']\n",
    "    x_bin = ['-'] if number<0 else ['']\n",
    "    x = abs(number)\n",
    "    \n",
    "    # then evaluate the number\n",
    "    while x >= 1:\n",
    "        x_bin.insert(1, str(x%2))\n",
    "        x = x//2\n",
    "    x_bin = ''.join(digit for digit in x_bin)\n",
    "        \n",
    "    print(\"Binary representation: \", x_bin)\n",
    "    \n",
    "    # dec->hex\n",
    "    # is there a better way of doing this? probably\n",
    "    hex_symbols = [str(i) for i in range(10)]\n",
    "    hex_symbols.extend(['a', 'b', 'c', 'd', 'e', 'f'])\n",
    "    \n",
    "    # first the sign\n",
    "    x_hex = ['-'] if number<0 else ['']\n",
    "    x = abs(number)\n",
    "    \n",
    "    # then evaluate the number\n",
    "    while x >= 1 :\n",
    "        x_hex.insert(1, hex_symbols[x%16])\n",
    "        x = x//16\n",
    "    x_hex = ''.join(digit for digit in x_hex)\n",
    "        \n",
    "    print(\"Hexadecimal representation: \", x_hex)"
   ]
  },
  {
   "cell_type": "code",
   "execution_count": 3,
   "metadata": {},
   "outputs": [
    {
     "name": "stdout",
     "output_type": "stream",
     "text": [
      "Binary representation:  -100110111010011000\n",
      "Hexadecimal representation:  -26e98\n",
      "-0b100110111010011000 -0x26e98\n"
     ]
    }
   ],
   "source": [
    "# test\n",
    "x = -159384\n",
    "convert(x)\n",
    "print(bin(x), hex(x))"
   ]
  },
  {
   "cell_type": "markdown",
   "metadata": {},
   "source": [
    "2\\. Write a function that converts a 32 bit word into a single precision floating point (i.e. interprets the various bits as sign, mantissa and exponent)"
   ]
  },
  {
   "cell_type": "code",
   "execution_count": 4,
   "metadata": {},
   "outputs": [],
   "source": [
    "def wordToFloat(x):\n",
    "    \n",
    "    x_float = 0.\n",
    "    return x_float\n",
    "    "
   ]
  },
  {
   "cell_type": "markdown",
   "metadata": {},
   "source": [
    "3\\. Write a program to determine the underflow and overflow limits (within a factor of 2) for python on your computer. \n",
    "\n",
    "**Tips**: define two variables inizialized to 1 and halve/double them enough time to exceed the under/over-flow limits  "
   ]
  },
  {
   "cell_type": "code",
   "execution_count": 5,
   "metadata": {},
   "outputs": [
    {
     "name": "stdout",
     "output_type": "stream",
     "text": [
      "underflow limit exceeded at 2^-1075\n"
     ]
    }
   ],
   "source": [
    "# find underflow limit\n",
    "x, under = 1., 0\n",
    "\n",
    "while x > 0:\n",
    "    under += 1\n",
    "    x /= 2\n",
    "print(\"underflow limit exceeded at 2^-%d\" %under)    "
   ]
  },
  {
   "cell_type": "code",
   "execution_count": 6,
   "metadata": {},
   "outputs": [
    {
     "name": "stdout",
     "output_type": "stream",
     "text": [
      "overflow limit exceeded at 2^1024\n"
     ]
    }
   ],
   "source": [
    "# find overflow limit\n",
    "y, over = 1., 0\n",
    "\n",
    "while y < float('inf'):\n",
    "    over += 1\n",
    "    y *= 2\n",
    "print(\"overflow limit exceeded at 2^%d\" %over)"
   ]
  },
  {
   "cell_type": "markdown",
   "metadata": {},
   "source": [
    "4\\. Write a program to determine the machine precision\n",
    "\n",
    "**Tips**: define a new variable by adding a smaller and smaller value (proceeding similarly to prob. 2) to an original variable and check the point where the two are the same "
   ]
  },
  {
   "cell_type": "code",
   "execution_count": 7,
   "metadata": {},
   "outputs": [
    {
     "name": "stdout",
     "output_type": "stream",
     "text": [
      "machine precision: 2^-54\n"
     ]
    }
   ],
   "source": [
    "x, y, i= 1., 2., 0\n",
    "\n",
    "while x != y:\n",
    "    y = x+2**(-i)\n",
    "    i += 1\n",
    "    \n",
    "print(\"machine precision: 2^-%d\" %i)"
   ]
  },
  {
   "cell_type": "markdown",
   "metadata": {},
   "source": [
    "5\\. Write a function that takes in input three parameters $a$, $b$ and $c$ and prints out the two solutions to the quadratic equation $ax^2+bx+c=0$ using the standard formula:\n",
    "$$\n",
    "x=\\frac{-b\\pm\\sqrt{b^2-4ac}}{2a}\n",
    "$$\n",
    "\n",
    "(a) use the program to compute the solution for $a=0.001$, $b=1000$ and $c=0.001$\n",
    "\n",
    "(b) re-express the standard solution formula by multiplying top and bottom by $-b\\mp\\sqrt{b^2-4ac}$ and again find the solution for $a=0.001$, $b=1000$ and $c=0.001$. How does it compare with what previously obtained? Why?\n",
    "\n",
    "(c) write a function that compute the roots of a quadratic equation accurately in all cases"
   ]
  },
  {
   "cell_type": "code",
   "execution_count": 8,
   "metadata": {},
   "outputs": [],
   "source": [
    "# (a)\n",
    "# define function to solve quadratic equations\n",
    "def quadraticSolveA(a, b, c):\n",
    "    x_1 = (-b+(b**2-4*a*c)**(-1/2))/(2*a)\n",
    "    x_2 = (-b-(b**2-4*a*c)**(-1/2))/(2*a)    \n",
    "    return x_1, x_2\n",
    "\n",
    "# (b)\n",
    "# define new function\n",
    "def quadraticSolveB(a, b, c):\n",
    "    x_1 = (-b+(b**2-4*a*c)**(-1/2))*(-b-(b**2-4*a*c)**(-1/2))/(2*a*(-b-(b**2-4*a*c)**(-1/2)))\n",
    "    x_2 = (-b-(b**2-4*a*c)**(-1/2))*(-b+(b**2-4*a*c)**(-1/2))/(2*a*(-b+(b**2-4*a*c)**(-1/2)))    \n",
    "    return x_1, x_2"
   ]
  },
  {
   "cell_type": "code",
   "execution_count": 9,
   "metadata": {},
   "outputs": [
    {
     "name": "stdout",
     "output_type": "stream",
     "text": [
      "(-499999.5, -500000.5)\n",
      "(-499999.50000000006, -500000.49999999994)\n"
     ]
    }
   ],
   "source": [
    "a, b, c = 0.001, 1000, 0.001\n",
    "print(quadraticSolveA(a, b, c))\n",
    "print(quadraticSolveB(a, b, c))"
   ]
  },
  {
   "cell_type": "markdown",
   "metadata": {},
   "source": [
    "Fehlerfortpflanzung! Not well conditioned or not numerically stable?"
   ]
  },
  {
   "cell_type": "code",
   "execution_count": 10,
   "metadata": {},
   "outputs": [],
   "source": [
    "# (c)\n",
    "# define new function\n",
    "def quadraticSolveC(a, b, c):\n",
    "    x_1 = '?'\n",
    "    x_2 = '?'\n",
    "    return x_1, x_2"
   ]
  },
  {
   "cell_type": "code",
   "execution_count": 11,
   "metadata": {},
   "outputs": [
    {
     "name": "stdout",
     "output_type": "stream",
     "text": [
      "('?', '?')\n"
     ]
    }
   ],
   "source": [
    "a, b, c = 0.001, 1000, 0.001\n",
    "print(quadraticSolveC(a, b, c))"
   ]
  },
  {
   "cell_type": "markdown",
   "metadata": {},
   "source": [
    "6\\. Write a program that implements the function $f(x)=x(x−1)$\n",
    "\n",
    "(a) Calculate the derivative of the function at the point $x = 1$ using the derivative definition:\n",
    "\n",
    "$$\n",
    "\\frac{{\\rm d}f}{{\\rm d}x} = \\lim_{\\delta\\to0} \\frac{f(x+\\delta)-f(x)}{\\delta}\n",
    "$$\n",
    "\n",
    "with $\\delta = 10^{−2}$. Calculate the true value of the same derivative analytically and compare with the answer your program gives. The two will not agree perfectly. Why not?\n",
    "\n",
    "(b) Repeat the calculation for $\\delta = 10^{−4}, 10^{−6}, 10^{−8}, 10^{−10}, 10^{−12}$ and $10^{−14}$. How does the accuracy scales with $\\delta$?"
   ]
  },
  {
   "cell_type": "code",
   "execution_count": 12,
   "metadata": {},
   "outputs": [],
   "source": [
    "import matplotlib.pyplot as plt\n",
    "\n",
    "# f(x) = x*(x-1)\n",
    "def func(x): return x*(x-1)\n",
    "\n",
    "# numerical derivative\n",
    "def derivative(f, x, d): return (f(x+d)-f(x))/d"
   ]
  },
  {
   "cell_type": "code",
   "execution_count": 13,
   "metadata": {},
   "outputs": [
    {
     "name": "stdout",
     "output_type": "stream",
     "text": [
      "numerical result: 1.010000000000001\n"
     ]
    }
   ],
   "source": [
    "# (a) \n",
    "x, d = 1., 10**(-2)\n",
    "print(\"numerical result:\", derivative(func, x, d))"
   ]
  },
  {
   "cell_type": "markdown",
   "metadata": {},
   "source": [
    "(a) The analytical derivative of $f(x) = x(x-1) = x^2-x$ is $f'(x) = \\frac{{\\rm d}f}{{\\rm d}x} = 2x-1$, so $f'(1) = 1$. The numerical solution does not correspond accurately to the analytical result due to $\\delta$ being finite, making the numerical approach an approximation."
   ]
  },
  {
   "cell_type": "code",
   "execution_count": 14,
   "metadata": {},
   "outputs": [
    {
     "name": "stdout",
     "output_type": "stream",
     "text": [
      "[1.010000000000001, 1.0000999999998899, 1.0000009999177333, 1.0000000039225287, 1.000000082840371, 1.0000889005833413]\n"
     ]
    },
    {
     "data": {
      "image/png": "[encoded data removed]",
      "text/plain": [
       "<Figure size 640x480 with 1 Axes>"
      ]
     },
     "metadata": {},
     "output_type": "display_data"
    }
   ],
   "source": [
    "# (b)\n",
    "d = [10**(-2*i) for i in range(1,7)]\n",
    "derivatives = [derivative(func, x, elem) for elem in d]\n",
    "print(derivatives)\n",
    "\n",
    "fig, ax = plt.subplots()\n",
    "plt.axhline(1, label=\"analytical result\", color='red', ls='--')\n",
    "ax.scatter(d, derivatives, label=\"numerical derivatives\")\n",
    "ax.set_xlabel(\"d\")\n",
    "ax.set_ylabel(\"df/dx (1)\")\n",
    "ax.set_xscale('log')\n",
    "plt.legend()\n",
    "plt.grid()\n",
    "plt.show()"
   ]
  },
  {
   "cell_type": "markdown",
   "metadata": {},
   "source": [
    "How does it scale with $\\delta$? Look it up in the CP lecture notes...\n",
    "\n",
    "(also maybe look up how to include LaTeX in the axis labels again...)"
   ]
  },
  {
   "cell_type": "markdown",
   "metadata": {},
   "source": [
    "7\\. Consider the integral of the semicircle of radius 1:\n",
    "$$\n",
    "I=\\int_{-1}^{1} \\sqrt(1-x^2) {\\rm d}x\n",
    "$$\n",
    "which it's known to be $I=\\frac{\\pi}{2}=1.57079632679...$.\n",
    "Alternatively we can use the Riemann definition of the integral:\n",
    "$$\n",
    "I=\\lim_{N\\to\\infty} \\sum_{k=1}^{N} h y_k \n",
    "$$\n",
    "\n",
    "with $h=2/N$ the width of each of the $N$ slices the domain is divided into and where\n",
    "$y_k$ is the value of the function at the $k-$th slice.\n",
    "\n",
    "(a) Write a programe to compute the integral with $N=100$. How does the result compares to the true value?\n",
    "\n",
    "(b) How much can $N$ be increased if the computation needs to be run in less than a second? What is the gain in running it for 1 minute? \n"
   ]
  },
  {
   "cell_type": "code",
   "execution_count": 15,
   "metadata": {},
   "outputs": [],
   "source": [
    "def integrate(func, uplim, lowlim, N=100):\n",
    "    I = 0\n",
    "    h = (uplim-lowlim)/N\n",
    "    for i in range(N):\n",
    "        I += h * func(lowlim+i*h)\n",
    "    return I\n",
    "\n",
    "def func(x): return (1-x**2)**(1/2)"
   ]
  },
  {
   "cell_type": "code",
   "execution_count": 23,
   "metadata": {},
   "outputs": [
    {
     "name": "stdout",
     "output_type": "stream",
     "text": [
      "1.5691342555492505\n"
     ]
    }
   ],
   "source": [
    "# (a)\n",
    "uplim, lowlim, N = 1, -1, 100\n",
    "print(integrate(func, uplim, lowlim, N))"
   ]
  },
  {
   "cell_type": "code",
   "execution_count": 27,
   "metadata": {},
   "outputs": [
    {
     "name": "stdout",
     "output_type": "stream",
     "text": [
      "N: 10^2, I: 1.5691342555\n",
      "N: 10^3, I: 1.5707437385\n",
      "N: 10^4, I: 1.5707946637\n",
      "N: 10^5, I: 1.5707962742\n",
      "N: 10^6, I: 1.5707963251\n",
      "N: 10^7, I: 1.5707963267\n",
      "N: 10^8, I: 1.5707963268\n",
      "60s exceeded!\n"
     ]
    }
   ],
   "source": [
    "import time\n",
    "\n",
    "N, i = 100, 2\n",
    "# while loop will be executed as long as a single loop does not exceed 60s\n",
    "t_end = time.time() + 60\n",
    "while time.time() < t_end:\n",
    "    t_end = time.time() + 60\n",
    "    print(\"N: 10^%d, I: %.10f\" %(i, integrate(func, uplim, lowlim, N)))\n",
    "    i+= 1\n",
    "    N = 10**i\n",
    "print(\"60s exceeded!\")"
   ]
  },
  {
   "cell_type": "code",
   "execution_count": 33,
   "metadata": {},
   "outputs": [
    {
     "name": "stdout",
     "output_type": "stream",
     "text": [
      "N: 110000, I: 1.5707946637\n",
      "N: 130000, I: 1.5707960067\n",
      "N: 140000, I: 1.5707961189\n",
      "N: 150000, I: 1.5707961780\n",
      "N: 160000, I: 1.5707962136\n",
      "N: 170000, I: 1.5707962370\n",
      "N: 180000, I: 1.5707962533\n",
      "N: 190000, I: 1.5707962652\n",
      "N: 1100000, I: 1.5707962742\n",
      "N: 1110000, I: 1.5707962812\n",
      "N: 1120000, I: 1.5707962868\n",
      "N: 1130000, I: 1.5707962913\n",
      "N: 1140000, I: 1.5707962950\n",
      "N: 1150000, I: 1.5707962982\n",
      "N: 1160000, I: 1.5707963008\n",
      "N: 1170000, I: 1.5707963031\n",
      "N: 1180000, I: 1.5707963050\n",
      "N: 1190000, I: 1.5707963067\n",
      "N: 1200000, I: 1.5707963082\n",
      "N: 1210000, I: 1.5707963095\n",
      "N: 1220000, I: 1.5707963107\n",
      "N: 1230000, I: 1.5707963117\n",
      "N: 1240000, I: 1.5707963127\n",
      "N: 1250000, I: 1.5707963135\n",
      "N: 1260000, I: 1.5707963143\n",
      "N: 1270000, I: 1.5707963149\n",
      "N: 1280000, I: 1.5707963156\n",
      "N: 1290000, I: 1.5707963161\n",
      "N: 1300000, I: 1.5707963167\n",
      "N: 1310000, I: 1.5707963172\n",
      "N: 1320000, I: 1.5707963176\n",
      "N: 1330000, I: 1.5707963180\n",
      "N: 1340000, I: 1.5707963184\n",
      "N: 1350000, I: 1.5707963188\n",
      "N: 1360000, I: 1.5707963191\n",
      "N: 1370000, I: 1.5707963194\n",
      "N: 1380000, I: 1.5707963197\n",
      "N: 1390000, I: 1.5707963200\n",
      "N: 1400000, I: 1.5707963202\n",
      "N: 1410000, I: 1.5707963205\n",
      "N: 1420000, I: 1.5707963207\n",
      "N: 1430000, I: 1.5707963209\n",
      "N: 1440000, I: 1.5707963211\n",
      "N: 1450000, I: 1.5707963213\n",
      "N: 1460000, I: 1.5707963215\n",
      "N: 1470000, I: 1.5707963216\n",
      "N: 1480000, I: 1.5707963218\n",
      "N: 1490000, I: 1.5707963219\n",
      "N: 1500000, I: 1.5707963221\n",
      "N: 1510000, I: 1.5707963222\n",
      "N: 1520000, I: 1.5707963224\n",
      "N: 1530000, I: 1.5707963225\n",
      "N: 1540000, I: 1.5707963226\n",
      "N: 1550000, I: 1.5707963227\n",
      "N: 1560000, I: 1.5707963228\n",
      "N: 1570000, I: 1.5707963229\n",
      "N: 1580000, I: 1.5707963230\n",
      "N: 1590000, I: 1.5707963231\n",
      "N: 1600000, I: 1.5707963232\n",
      "N: 1610000, I: 1.5707963233\n",
      "N: 1620000, I: 1.5707963234\n",
      "N: 1630000, I: 1.5707963235\n",
      "N: 1640000, I: 1.5707963235\n",
      "N: 1650000, I: 1.5707963236\n",
      "N: 1660000, I: 1.5707963237\n",
      "N: 1670000, I: 1.5707963238\n",
      "N: 1680000, I: 1.5707963238\n",
      "N: 1690000, I: 1.5707963239\n",
      "N: 1700000, I: 1.5707963240\n",
      "N: 1710000, I: 1.5707963240\n",
      "1s exceeded!\n"
     ]
    }
   ],
   "source": [
    "N, i = 10000, 2\n",
    "# while loop will be executed as long as a single loop does not exceed 1s\n",
    "t_end = time.time() + 1\n",
    "while time.time() < t_end:\n",
    "    t_end = time.time() + 1\n",
    "    print(\"N: 1%d, I: %.10f\" %(N, integrate(func, uplim, lowlim, N)))\n",
    "    i+= 1\n",
    "    N = 10000*i\n",
    "print(\"1s exceeded!\")"
   ]
  },
  {
   "cell_type": "code",
   "execution_count": null,
   "metadata": {},
   "outputs": [],
   "source": []
  }
 ],
 "metadata": {
  "kernelspec": {
   "display_name": "Python 3 (ipykernel)",
   "language": "python",
   "name": "python3"
  },
  "language_info": {
   "codemirror_mode": {
    "name": "ipython",
    "version": 3
   },
   "file_extension": ".py",
   "mimetype": "text/x-python",
   "name": "python",
   "nbconvert_exporter": "python",
   "pygments_lexer": "ipython3",
   "version": "3.9.16"
  }
 },
 "nbformat": 4,
 "nbformat_minor": 2
}
